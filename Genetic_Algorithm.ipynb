{
  "nbformat": 4,
  "nbformat_minor": 0,
  "metadata": {
    "colab": {
      "name": "Genetic Algorithm.ipynb",
      "provenance": [],
      "collapsed_sections": []
    },
    "kernelspec": {
      "name": "python3",
      "display_name": "Python 3"
    },
    "language_info": {
      "name": "python"
    }
  },
  "cells": [
    {
      "cell_type": "markdown",
      "metadata": {
        "id": "lAms0dkvhu5I"
      },
      "source": [
        "# **DATA & LIBRARY**"
      ]
    },
    {
      "cell_type": "code",
      "metadata": {
        "id": "A_WNS8e13yWp",
        "colab": {
          "base_uri": "https://localhost:8080/"
        },
        "outputId": "2cc4a26c-a728-4b77-83a1-cde890596812"
      },
      "source": [
        "import pandas as pd\n",
        "import numpy as np\n",
        "import random\n",
        "import math\n",
        "from math import sqrt\n",
        "from sklearn.metrics import mean_squared_error\n",
        "\n",
        "\n",
        "dataset = pd.read_csv(\"/content/TLKM.csv\")\n",
        "dataset = dataset[['date','high']]\n",
        "dataset['y1'] = dataset.shift(periods=1)['high']\n",
        "for i in range(10):\n",
        "      dataset[f\"y{i+1}\"] = dataset.shift(periods=i+1)['high']\n",
        "data = dataset[-200: -100]\n",
        "print(data.head(100))"
      ],
      "execution_count": null,
      "outputs": [
        {
          "output_type": "stream",
          "text": [
            "                    date    high      y1  ...      y8      y9     y10\n",
            "215  2020-06-10T00:00:00  3190.0  3270.0  ...  3210.0  3270.0  3280.0\n",
            "216  2020-06-11T00:00:00  3150.0  3190.0  ...  3150.0  3210.0  3270.0\n",
            "217  2020-06-12T00:00:00  3080.0  3150.0  ...  3270.0  3150.0  3210.0\n",
            "218  2020-06-15T00:00:00  3150.0  3080.0  ...  3320.0  3270.0  3150.0\n",
            "219  2020-06-16T00:00:00  3220.0  3150.0  ...  3390.0  3320.0  3270.0\n",
            "..                   ...     ...     ...  ...     ...     ...     ...\n",
            "310  2020-10-27T00:00:00  2690.0  2680.0  ...  2850.0  2830.0  2740.0\n",
            "311  2020-11-02T00:00:00  2620.0  2690.0  ...  2780.0  2850.0  2830.0\n",
            "312  2020-11-03T00:00:00  2590.0  2620.0  ...  2810.0  2780.0  2850.0\n",
            "313  2020-11-04T00:00:00  2640.0  2590.0  ...  2740.0  2810.0  2780.0\n",
            "314  2020-11-05T00:00:00  2810.0  2640.0  ...  2710.0  2740.0  2810.0\n",
            "\n",
            "[100 rows x 12 columns]\n"
          ],
          "name": "stdout"
        }
      ]
    },
    {
      "cell_type": "markdown",
      "metadata": {
        "id": "J17nyq7Ih7Ab"
      },
      "source": [
        "# **PROCEDURE & FUNGSI**"
      ]
    },
    {
      "cell_type": "markdown",
      "metadata": {
        "id": "W2vtw21_isa_"
      },
      "source": [
        "**Generate Populasi**"
      ]
    },
    {
      "cell_type": "code",
      "metadata": {
        "id": "aZ9SWbo8_rIC"
      },
      "source": [
        "def generate_populasi(jml_populasi, panjang) :\n",
        "    populasi = []\n",
        "    for i in range(jml_populasi) : \n",
        "\n",
        "         chromosome = [random.uniform(-100, 100) for i in range(10)]\n",
        "\n",
        "        # Input individu ke array\n",
        "         populasi.append(chromosome)\n",
        "\n",
        "    return populasi "
      ],
      "execution_count": null,
      "outputs": []
    },
    {
      "cell_type": "markdown",
      "metadata": {
        "id": "WtnI_0UVi1Me"
      },
      "source": [
        "**Decode Chromosome**"
      ]
    },
    {
      "cell_type": "code",
      "metadata": {
        "id": "GWU8p8F0AG5U"
      },
      "source": [
        "def decode_chromosome(populasi, rmin, max):\n",
        "  populasi             = np.asarray(populasi)\n",
        "  pop_size, chrom_size = populasi.shape\n",
        "  jumlah_x             = len(rmin)\n",
        "  alele                = chrom_size // jumlah_x\n",
        "  temp_populasi        = populasi.copy().reshape((pop_size, jumlah_x, alele))\n",
        "\n",
        "  decimal              = np.array( [10**-(i+1) for i in range(alele) ])\n",
        "  scale                = (max-rmin) / (9*np.sum(decimal))\n",
        "\n",
        "  decoded_populasi     = rmin + (scale * temp_populasi.dot(decimal))\n",
        "\n",
        "  return decoded_populasi"
      ],
      "execution_count": null,
      "outputs": []
    },
    {
      "cell_type": "markdown",
      "metadata": {
        "id": "c2KG8F71i-JH"
      },
      "source": [
        "**Fitness**"
      ]
    },
    {
      "cell_type": "code",
      "metadata": {
        "id": "liMmK9avAkQQ"
      },
      "source": [
        "def nilai_minimum(x1,x2):\n",
        "  return (math.cos(x1)*math.sin(x2)) - (x1/(x2**2+1))    "
      ],
      "execution_count": null,
      "outputs": []
    },
    {
      "cell_type": "code",
      "metadata": {
        "id": "9X5DpU91BBV8"
      },
      "source": [
        "def fitness(decoded_kromosom):\n",
        "  fitness = []\n",
        "  for data in decoded_kromosom:\n",
        "    x1 = data[0]                                        \n",
        "    x2 = data[1]                                        \n",
        "    h = nilai_minimum(x1,x2)                            \n",
        "    c = 10                                              \n",
        "    f = c** -(h)                                        \n",
        "    fitness.append(f)\n",
        "\n",
        "  return np.array(fitness)"
      ],
      "execution_count": null,
      "outputs": []
    },
    {
      "cell_type": "markdown",
      "metadata": {
        "id": "_D_hX72ujKs_"
      },
      "source": [
        "Selection"
      ]
    },
    {
      "cell_type": "code",
      "metadata": {
        "id": "IbdgPUPXC3IF"
      },
      "source": [
        "def tournamentSelection(pop, k):\n",
        "  best1 = 0.0                                           \n",
        "  best2 = 0.0                                           \n",
        "  best = []                                             \n",
        "  best_index = []                                       \n",
        "\n",
        "  for i in range(k):                                    \n",
        "    index = random.randint(0, (pop.size-1))             \n",
        "    if (best1 == 0.0) or pop[index] > best:            \n",
        "      best1 = pop[index]                                \n",
        "  best.append(best1)\n",
        "  best_index.append(index)\n",
        "\n",
        "  for j in range(k):                                    \n",
        "    index = random.randint(0, (pop.size-1))             \n",
        "    if (best2 == 0.0) or pop[index] > best:\n",
        "      best2 = pop[index]                                \n",
        "  best.append(best2)\n",
        "  best_index.append(index)\n",
        "\n",
        "\n",
        "  return np.array(best_index) "
      ],
      "execution_count": null,
      "outputs": []
    },
    {
      "cell_type": "markdown",
      "metadata": {
        "id": "UJ7Fx1c9jT8C"
      },
      "source": [
        "**Crossover**"
      ]
    },
    {
      "cell_type": "code",
      "metadata": {
        "id": "W-yri16cEr_l"
      },
      "source": [
        "def crossover(kromosom_parents):\n",
        "  chance = random.random()                                              \n",
        "  child = kromosom_parents\n",
        "  if(chance <= kemungkinan_crossover):\n",
        "    cross = np.random.randint(0, ukuran_kromosom)                \n",
        "    child[::-1, cross:] = kromosom_parents[::, cross:]     \n",
        "\n",
        "  return child"
      ],
      "execution_count": null,
      "outputs": []
    },
    {
      "cell_type": "markdown",
      "metadata": {
        "id": "xZrsnG83ji31"
      },
      "source": [
        "**Mutasi**"
      ]
    },
    {
      "cell_type": "code",
      "metadata": {
        "id": "pAVgcLFPjmkr"
      },
      "source": [
        "def mutasi(kromosom):\n",
        "  chance = random.random()                                                                \n",
        "  mutation = np.random.randint(0,10,(kromosom.shape))                                     \n",
        "  mutated_kromosom = np.where(chance >= kemungkinan_mutasi, kromosom, mutation)           \n",
        "\n",
        "  return mutated_kromosom"
      ],
      "execution_count": null,
      "outputs": []
    },
    {
      "cell_type": "code",
      "metadata": {
        "id": "Cx_7qE7IjoQ4"
      },
      "source": [
        "def elitisme(populasi, fitness):\n",
        "  best_index = np.argmax(fitness)                                     \n",
        "  best_kromosom = populasi[best_index]                                \n",
        "  populasi_baru = np.array([best_kromosom])\n",
        "\n",
        "  return populasi_baru"
      ],
      "execution_count": null,
      "outputs": []
    },
    {
      "cell_type": "markdown",
      "metadata": {
        "id": "S0grQ2_FjqY2"
      },
      "source": [
        "# **Main Program**"
      ]
    },
    {
      "cell_type": "code",
      "metadata": {
        "colab": {
          "base_uri": "https://localhost:8080/"
        },
        "id": "Ys36D2s_jsLH",
        "outputId": "3b8f3fa9-0547-45c8-c2d2-1cfec9fd73ec"
      },
      "source": [
        "ukuran_populasi = 80            \n",
        "ukuran_kromosom = 8             \n",
        "ukuran_turnamen = 10            \n",
        "ukuran_generasi = 100           \n",
        "xMin = np.array([-1, -1])       \n",
        "xMax = np.array([2, 1])         \n",
        "kemungkinan_crossover = 0.8     \n",
        "kemungkinan_mutasi = 0.05       \n",
        "\n",
        "populasi = generate_populasi(ukuran_populasi, ukuran_kromosom)\n",
        "\n",
        "for currentGenerasi in range(ukuran_generasi):\n",
        "  getDecode_Chrom = decode_chromosome(populasi, xMin,  xMax)\n",
        "  getFitness = fitness(getDecode_Chrom)\n",
        "  populasi_baru = elitisme(populasi, getFitness)\n",
        "  while(len(populasi_baru) < ukuran_populasi):\n",
        "    getParentsIndex = tournamentSelection(getFitness, ukuran_turnamen)\n",
        "    parents = []\n",
        "    parent1 = populasi[getParentsIndex[0]]\n",
        "    parent2 = populasi[getParentsIndex[1]]\n",
        "    parents.append(parent1)\n",
        "    parents.append(parent2)\n",
        "    getMutatedChild = mutasi(getCrossoveredChild)\n",
        "    populasi_baru = np.vstack([populasi_baru, getMutatedChild])\n",
        "  populasi = populasi_baru\n",
        "\n",
        "decoded_populasi = decode_chromosome(populasi, xMin, xMax)\n",
        "fitness = fitness(decoded_populasi)\n",
        "best_index = np.argmax(fitness)\n",
        "\n",
        "print(\"\")\n",
        "print(\"\")\n",
        "best_individu = populasi[best_index]\n",
        "print(\"Individu fitness terbaik : \",best_individu)\n",
        "best_decoded = decoded_populasi[best_index]\n",
        "print(\"Nilai x1 dan x2                 : \",best_decoded)\n",
        "print(\"Nilai prediksi terbaik          : \",nilai_minimum(best_decoded[0],best_decoded[1]))\n",
        "print(\"\")\n",
        "print(\"\")"
      ],
      "execution_count": null,
      "outputs": [
        {
          "output_type": "stream",
          "text": [
            "/usr/local/lib/python3.7/dist-packages/ipykernel_launcher.py:9: DeprecationWarning: The truth value of an empty array is ambiguous. Returning False, but in future this will result in an error. Use `array.size > 0` to check that an array is not empty.\n",
            "  if __name__ == '__main__':\n"
          ],
          "name": "stderr"
        },
        {
          "output_type": "stream",
          "text": [
            "\n",
            "\n",
            "Individu fitness terbaik :  [ 98.7692993   56.08892259  86.49826682  48.29207833 -14.12567171\n",
            "  -9.18245622  90.02411385  -0.8626926  -25.38935028  69.66045447]\n",
            "Nilai x1 dan x2                 :  [30.58733199 -1.04141943]\n",
            "Nilai prediksi terbaik          :  -15.25671361209215\n",
            "\n",
            "\n"
          ],
          "name": "stdout"
        }
      ]
    }
  ]
}